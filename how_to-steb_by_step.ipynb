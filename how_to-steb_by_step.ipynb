{
 "cells": [
  {
   "cell_type": "markdown",
   "metadata": {},
   "source": [
    "Following video of Krish Naik (https://www.youtube.com/watch?v=Rv6UFGNmNZg&ab_channel=KrishNaik)\n",
    "\n",
    "Day 1: \n",
    "1. Set up github repository\n",
    "    a) set up new environment (venv)\n",
    "    b) setup.py\n",
    "    c) requirements.txt\n",
    "\n",
    "Steps:\n",
    "1. Create new repository\n",
    "2. Create folder to be synced with repo\n",
    "3. Create and activate virtual environment\n",
    "    with conda (miniconda, on windows): \n",
    "    1. Navigate to the folder you want to create the venv through the command prompt\n",
    "    2. Create environment by typing:\n",
    "        conda create -p venv python==3.8 -y\n",
    "        note: venv is the name of the virtual environment. it can be anything, but venv is what is usually used\n",
    "    3. Activate virtual environment:\n",
    "        conda activate venv/\n",
    "    *conda venv tips & troubleshooting\n",
    "4. Initialize git in folder:\n",
    "    git init\n",
    "5. Create README.md\n",
    "6. Initialize git & commit\n",
    "    (git should be installed)\n",
    "    git init\n",
    "    git add README.md\n",
    "    git commit -m 'First commit'\n",
    "7. sync with github:\n",
    "    *git should be configured with same email id & username as github, check git global config\n",
    "    git branch -M main\n",
    "    git remote add origin (path of github repository)\n",
    "\n",
    "\n"
   ]
  },
  {
   "cell_type": "markdown",
   "metadata": {},
   "source": [
    "*conda venv tips & troubleshooting\n",
    "1) In order for conda to run from command line, conda should be added to the path. If not,un-install and re-install conda (using mini-conda) \n",
    "and when installing, click the add to path option when it appears\n",
    "\n",
    "2) Delete a virtual environment with conda:\n",
    "       conda env remove -p C:\\this\\is\\the\\path\\of\\venv"
   ]
  }
 ],
 "metadata": {
  "language_info": {
   "name": "python"
  },
  "orig_nbformat": 4
 },
 "nbformat": 4,
 "nbformat_minor": 2
}
